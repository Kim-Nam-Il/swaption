{
 "cells": [
  {
   "cell_type": "code",
   "execution_count": 1,
   "id": "5a61db21",
   "metadata": {},
   "outputs": [
    {
     "name": "stdout",
     "output_type": "stream",
     "text": [
      "Payer Swaption Payoff: 2,500.00\n",
      "Receiver Swaption Payoff: 0.00\n"
     ]
    }
   ],
   "source": [
    "import numpy as np\n",
    "\n",
    "class SimpleSwaption:\n",
    "    \"\"\"\n",
    "    A simplified single-period swaption (payoff) example class\n",
    "    \"\"\"\n",
    "    def __init__(self, notional, strike, forward_rate, year_fraction):\n",
    "        \"\"\"\n",
    "        Initialization\n",
    "        :param notional: Notional amount\n",
    "        :param strike: Fixed rate (Strike)\n",
    "        :param forward_rate: Floating rate (Forward Rate)\n",
    "        :param year_fraction: Year fraction (e.g., 6 months = 0.5)\n",
    "        \"\"\"\n",
    "        self.notional = notional\n",
    "        self.strike = strike\n",
    "        self.forward_rate = forward_rate\n",
    "        self.year_fraction = year_fraction\n",
    "    \n",
    "    def payer_swaption_payoff(self):\n",
    "        \"\"\"\n",
    "        Calculate the Payer Swaption payoff\n",
    "        Payoff = N * τ * max(F - K, 0)\n",
    "        \"\"\"\n",
    "        payoff = self.notional * self.year_fraction * max(self.forward_rate - self.strike, 0)\n",
    "        return payoff\n",
    "    \n",
    "    def receiver_swaption_payoff(self):\n",
    "        \"\"\"\n",
    "        Calculate the Receiver Swaption payoff\n",
    "        Payoff = N * τ * max(K - F, 0)\n",
    "        \"\"\"\n",
    "        payoff = self.notional * self.year_fraction * max(self.strike - self.forward_rate, 0)\n",
    "        return payoff\n",
    "\n",
    "# Example parameter setup\n",
    "notional = 1_000_000       # Notional amount\n",
    "strike = 0.03              # Fixed rate (3%)\n",
    "forward_rate = 0.035       # Floating rate (3.5%)\n",
    "year_fraction = 0.5        # Year fraction (0.5 = 6 months)\n",
    "\n",
    "# Create swaption object\n",
    "swaption_example = SimpleSwaption(notional, strike, forward_rate, year_fraction)\n",
    "\n",
    "# Calculate each swaption payoff\n",
    "payer_payoff = swaption_example.payer_swaption_payoff()\n",
    "receiver_payoff = swaption_example.receiver_swaption_payoff()\n",
    "\n",
    "print(f\"Payer Swaption Payoff: {payer_payoff:,.2f}\")\n",
    "print(f\"Receiver Swaption Payoff: {receiver_payoff:,.2f}\")"
   ]
  }
 ],
 "metadata": {
  "kernelspec": {
   "display_name": "Python 3",
   "language": "python",
   "name": "python3"
  },
  "language_info": {
   "codemirror_mode": {
    "name": "ipython",
    "version": 3
   },
   "file_extension": ".py",
   "mimetype": "text/x-python",
   "name": "python",
   "nbconvert_exporter": "python",
   "pygments_lexer": "ipython3",
   "version": "3.12.1"
  }
 },
 "nbformat": 4,
 "nbformat_minor": 5
}
